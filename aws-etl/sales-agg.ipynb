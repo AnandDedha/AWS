{
	"metadata": {
		"kernelspec": {
			"name": "glue_pyspark",
			"display_name": "Glue PySpark",
			"language": "python"
		},
		"language_info": {
			"name": "Python_Glue_Session",
			"mimetype": "text/x-python",
			"codemirror_mode": {
				"name": "python",
				"version": 3
			},
			"pygments_lexer": "python3",
			"file_extension": ".py"
		}
	},
	"nbformat_minor": 4,
	"nbformat": 4,
	"cells": [
		{
			"cell_type": "markdown",
			"source": "# AWS Glue Studio Notebook\n##### You are now running a AWS Glue Studio notebook; To start using your notebook you need to start an AWS Glue Interactive Session.\n",
			"metadata": {
				"editable": true,
				"trusted": true
			}
		},
		{
			"cell_type": "markdown",
			"source": "#### Optional: Run this cell to see available notebook commands (\"magics\").\n",
			"metadata": {
				"editable": true,
				"trusted": true
			}
		},
		{
			"cell_type": "code",
			"source": "%help",
			"metadata": {
				"trusted": true,
				"editable": true
			},
			"execution_count": null,
			"outputs": []
		},
		{
			"cell_type": "markdown",
			"source": "####  Run this cell to set up and start your interactive session.\n",
			"metadata": {
				"editable": true,
				"trusted": true
			}
		},
		{
			"cell_type": "code",
			"source": "%idle_timeout 2880\n%glue_version 3.0\n%worker_type G.1X\n%number_of_workers 5\n%connections redshift-demo-connection\n\nimport sys\nfrom awsglue.transforms import *\nfrom awsglue.utils import getResolvedOptions\nfrom pyspark.context import SparkContext\nfrom awsglue.context import GlueContext\nfrom awsglue.job import Job\nfrom pyspark.sql.functions import *\nfrom awsglue.dynamicframe import DynamicFrame\n  \nsc = SparkContext.getOrCreate()\nglueContext = GlueContext(sc)\nspark = glueContext.spark_session\njob = Job(glueContext)",
			"metadata": {
				"trusted": true,
				"editable": true
			},
			"execution_count": 28,
			"outputs": [
				{
					"name": "stderr",
					"text": "You are already connected to a glueetl session a88fd810-5fc2-4bfa-bdb7-8a999a99f8a5.\n\nNo change will be made to the current session that is set as glueetl. The session configuration change will apply to newly created sessions.\n",
					"output_type": "stream"
				},
				{
					"name": "stdout",
					"text": "Current idle_timeout is 2880 minutes.\nidle_timeout has been set to 2880 minutes.\n",
					"output_type": "stream"
				},
				{
					"name": "stderr",
					"text": "You are already connected to a glueetl session a88fd810-5fc2-4bfa-bdb7-8a999a99f8a5.\n\nNo change will be made to the current session that is set as glueetl. The session configuration change will apply to newly created sessions.\n",
					"output_type": "stream"
				},
				{
					"name": "stdout",
					"text": "Setting Glue version to: 3.0\n",
					"output_type": "stream"
				},
				{
					"name": "stderr",
					"text": "You are already connected to a glueetl session a88fd810-5fc2-4bfa-bdb7-8a999a99f8a5.\n\nNo change will be made to the current session that is set as glueetl. The session configuration change will apply to newly created sessions.\n",
					"output_type": "stream"
				},
				{
					"name": "stdout",
					"text": "Previous worker type: G.1X\nSetting new worker type to: G.1X\n",
					"output_type": "stream"
				},
				{
					"name": "stderr",
					"text": "You are already connected to a glueetl session a88fd810-5fc2-4bfa-bdb7-8a999a99f8a5.\n\nNo change will be made to the current session that is set as glueetl. The session configuration change will apply to newly created sessions.\n",
					"output_type": "stream"
				},
				{
					"name": "stdout",
					"text": "Previous number of workers: 5\nSetting new number of workers to: 5\n",
					"output_type": "stream"
				},
				{
					"name": "stderr",
					"text": "You are already connected to a glueetl session a88fd810-5fc2-4bfa-bdb7-8a999a99f8a5.\n\nNo change will be made to the current session that is set as glueetl. The session configuration change will apply to newly created sessions.\n",
					"output_type": "stream"
				},
				{
					"name": "stdout",
					"text": "Connections to be included:\nredshift-demo-connection\n\n",
					"output_type": "stream"
				}
			]
		},
		{
			"cell_type": "markdown",
			"source": "#### Example: Create a DynamicFrame from a table in the AWS Glue Data Catalog and display its schema\n",
			"metadata": {
				"editable": true,
				"trusted": true
			}
		},
		{
			"cell_type": "code",
			"source": "dyf = glueContext.create_dynamic_frame.from_catalog(database='salesdb', table_name='sales_records_csv')\ndyf = DropNullFields.apply(frame=dyf)\ndyf.printSchema()",
			"metadata": {
				"trusted": true,
				"editable": true
			},
			"execution_count": 25,
			"outputs": [
				{
					"name": "stdout",
					"text": "null_fields []\nroot\n|-- id: long\n|-- region: string\n|-- country: string\n|-- item_type: string\n|-- sales_channel: string\n|-- order_priority: string\n|-- order_date: string\n|-- order_id: long\n|-- ship_date: string\n|-- units_sold: long\n|-- unit_price: double\n|-- unit_cost: double\n|-- total_revenue: double\n|-- total_cost: double\n|-- total_profit: double\n",
					"output_type": "stream"
				}
			]
		},
		{
			"cell_type": "markdown",
			"source": "#### Example: Convert the DynamicFrame to a Spark DataFrame and display a sample of the data\n",
			"metadata": {
				"editable": true,
				"trusted": true
			}
		},
		{
			"cell_type": "code",
			"source": "df = dyf.toDF()\ndf.show()",
			"metadata": {
				"trusted": true,
				"editable": true
			},
			"execution_count": 3,
			"outputs": [
				{
					"name": "stdout",
					"text": "+---+--------------------+--------------------+---------------+-------------+--------------+----------+---------+----------+----------+----------+---------+-------------+----------+------------+\n| id|              region|             country|      item_type|sales_channel|order_priority|order_date| order_id| ship_date|units_sold|unit_price|unit_cost|total_revenue|total_cost|total_profit|\n+---+--------------------+--------------------+---------------+-------------+--------------+----------+---------+----------+----------+----------+---------+-------------+----------+------------+\n|  1|Central America a...|Antigua and Barbuda |      Baby Food|       Online|             M|12/20/2013|957081544| 1/11/2014|       552|    255.28|   159.42|    140914.56|  87999.84|    52914.72|\n|  2|Central America a...|              Panama|         Snacks|      Offline|             C|  7/5/2010|301644504| 7/26/2010|      2167|    152.58|    97.44|    330640.86| 211152.48|   119488.38|\n|  3|              Europe|      Czech Republic|      Beverages|      Offline|             C| 9/12/2011|478051030| 9/29/2011|      4778|     47.45|    31.79|     226716.1| 151892.62|    74823.48|\n|  4|                Asia|         North Korea|         Cereal|      Offline|             L| 5/13/2010|892599952| 6/15/2010|      9016|     205.7|   117.11|    1854591.2|1055863.76|   798727.44|\n|  5|                Asia|           Sri Lanka|         Snacks|      Offline|             C| 7/20/2015|571902596| 7/27/2015|      7542|    152.58|    97.44|   1150758.36| 734892.48|   415865.88|\n|  6|Middle East and N...|             Morocco|  Personal Care|      Offline|             L| 11/8/2010|412882792|11/22/2010|        48|     81.73|    56.67|      3923.04|   2720.16|     1202.88|\n|  7|Australia and Oce...|Federated States ...|        Clothes|      Offline|             H| 3/28/2011|932776868| 5/10/2011|      8258|    109.28|    35.84|    902434.24| 295966.72|   606467.52|\n|  8|              Europe|Bosnia and Herzeg...|        Clothes|       Online|             M|10/14/2013|919133651| 11/4/2013|       927|    109.28|    35.84|    101302.56|  33223.68|    68078.88|\n|  9|Middle East and N...|         Afghanistan|        Clothes|      Offline|             M| 8/27/2016|579814469| 10/5/2016|      8841|    109.28|    35.84|    966144.48| 316861.44|   649283.04|\n| 10|  Sub-Saharan Africa|            Ethiopia|      Baby Food|       Online|             M| 4/13/2015|192993152|  5/7/2015|      9817|    255.28|   159.42|   2506083.76|1565026.14|   941057.62|\n| 11|Middle East and N...|              Turkey|Office Supplies|      Offline|             C| 9/25/2013|557156026|10/15/2013|      3704|    651.21|   524.96|   2412081.84|1944451.84|    467630.0|\n| 12|Middle East and N...|                Oman|      Cosmetics|       Online|             M| 5/12/2013|741101920| 5/17/2013|      7382|     437.2|   263.33|    3227410.4|1943902.06|  1283508.34|\n| 13|                Asia|            Malaysia|         Cereal|      Offline|             L| 7/31/2016|333942162| 8/25/2016|      9762|     205.7|   117.11|    2008043.4|1143227.82|   864815.58|\n| 14|Central America a...|         Saint Lucia|      Cosmetics|      Offline|             H|  7/6/2015|795100581| 7/16/2015|      6786|     437.2|   263.33|    2966839.2|1786957.38|  1179881.82|\n| 15|Central America a...|Saint Vincent and...|      Baby Food|       Online|             L|11/28/2010|504313504| 12/3/2010|      6428|    255.28|   159.42|   1640939.84|1024751.76|   616188.08|\n| 16|Middle East and N...|             Lebanon|           Meat|      Offline|             H|12/17/2015|611629760| 1/31/2016|      3693|    421.89|   364.69|   1558039.77|1346800.17|    211239.6|\n| 17|              Europe|             Austria|         Cereal|      Offline|             C| 8/13/2014|987410676|  9/6/2014|      5616|     205.7|   117.11|    1155211.2| 657689.76|   497521.44|\n| 18|              Europe|            Bulgaria|Office Supplies|       Online|             L|10/31/2010|672330081|11/29/2010|      6266|    651.21|   524.96|   4080481.86|3289399.36|    791082.5|\n| 19|       North America|              Mexico|      Beverages|       Online|             C| 3/13/2017|127374303| 3/20/2017|      1742|     47.45|    31.79|      82657.9|  55378.18|    27279.72|\n| 20|Central America a...| Trinidad and Tobago|      Baby Food|      Offline|             C| 4/16/2013|783842170|  6/1/2013|      5172|    255.28|   159.42|   1320308.16| 824520.24|   495787.92|\n+---+--------------------+--------------------+---------------+-------------+--------------+----------+---------+----------+----------+----------+---------+-------------+----------+------------+\nonly showing top 20 rows\n",
					"output_type": "stream"
				}
			]
		},
		{
			"cell_type": "markdown",
			"source": "#### Example: Perform data transformations\n",
			"metadata": {
				"editable": true,
				"tags": [],
				"trusted": true
			}
		},
		{
			"cell_type": "code",
			"source": "sales_df = df.withColumn(\"Order_Date\", to_date(unix_timestamp(col('order_date'), 'MM/dd/yyyy').cast('timestamp'))) \\\n             .withColumn(\"Ship_Date\", to_date(unix_timestamp(col('ship_date'), 'MM/dd/yyyy').cast('timestamp')))\n\nsales_df.show(10, True)\n",
			"metadata": {
				"trusted": true,
				"tags": []
			},
			"execution_count": 11,
			"outputs": [
				{
					"name": "stdout",
					"text": "+---+--------------------+--------------------+-------------+-------------+--------------+----------+---------+----------+----------+----------+---------+-------------+----------+------------+\n| id|              region|             country|    item_type|sales_channel|order_priority|Order_Date| order_id| Ship_Date|units_sold|unit_price|unit_cost|total_revenue|total_cost|total_profit|\n+---+--------------------+--------------------+-------------+-------------+--------------+----------+---------+----------+----------+----------+---------+-------------+----------+------------+\n|  1|Central America a...|Antigua and Barbuda |    Baby Food|       Online|             M|2013-12-20|957081544|2014-01-11|       552|    255.28|   159.42|    140914.56|  87999.84|    52914.72|\n|  2|Central America a...|              Panama|       Snacks|      Offline|             C|2010-07-05|301644504|2010-07-26|      2167|    152.58|    97.44|    330640.86| 211152.48|   119488.38|\n|  3|              Europe|      Czech Republic|    Beverages|      Offline|             C|2011-09-12|478051030|2011-09-29|      4778|     47.45|    31.79|     226716.1| 151892.62|    74823.48|\n|  4|                Asia|         North Korea|       Cereal|      Offline|             L|2010-05-13|892599952|2010-06-15|      9016|     205.7|   117.11|    1854591.2|1055863.76|   798727.44|\n|  5|                Asia|           Sri Lanka|       Snacks|      Offline|             C|2015-07-20|571902596|2015-07-27|      7542|    152.58|    97.44|   1150758.36| 734892.48|   415865.88|\n|  6|Middle East and N...|             Morocco|Personal Care|      Offline|             L|2010-11-08|412882792|2010-11-22|        48|     81.73|    56.67|      3923.04|   2720.16|     1202.88|\n|  7|Australia and Oce...|Federated States ...|      Clothes|      Offline|             H|2011-03-28|932776868|2011-05-10|      8258|    109.28|    35.84|    902434.24| 295966.72|   606467.52|\n|  8|              Europe|Bosnia and Herzeg...|      Clothes|       Online|             M|2013-10-14|919133651|2013-11-04|       927|    109.28|    35.84|    101302.56|  33223.68|    68078.88|\n|  9|Middle East and N...|         Afghanistan|      Clothes|      Offline|             M|2016-08-27|579814469|2016-10-05|      8841|    109.28|    35.84|    966144.48| 316861.44|   649283.04|\n| 10|  Sub-Saharan Africa|            Ethiopia|    Baby Food|       Online|             M|2015-04-13|192993152|2015-05-07|      9817|    255.28|   159.42|   2506083.76|1565026.14|   941057.62|\n+---+--------------------+--------------------+-------------+-------------+--------------+----------+---------+----------+----------+----------+---------+-------------+----------+------------+\nonly showing top 10 rows\n",
					"output_type": "stream"
				}
			]
		},
		{
			"cell_type": "markdown",
			"source": "#### Group by Region and Country and calculate aggregate metrics\n",
			"metadata": {}
		},
		{
			"cell_type": "code",
			"source": "aggregate_df = sales_df.groupBy(\"Region\", \"Country\", year(\"order_date\").alias('year'), quarter(\"order_date\").alias('quarter')).agg(\n    sum(\"Total_Revenue\").alias(\"Total_Revenue_By_Region_Country\"),\n    sum(\"Total_Cost\").alias(\"Total_Cost_By_Region_Country\"),\n    sum(\"Total_Profit\").alias(\"Total_Profit_By_Region_Country\")\n)\n\n",
			"metadata": {
				"trusted": true,
				"tags": []
			},
			"execution_count": 22,
			"outputs": [
				{
					"name": "stdout",
					"text": "\n",
					"output_type": "stream"
				}
			]
		},
		{
			"cell_type": "markdown",
			"source": "#### Show the aggregated data (for demonstration purposes)\n",
			"metadata": {
				"tags": []
			}
		},
		{
			"cell_type": "code",
			"source": "aggregate_df.orderBy(\"year\",\"quarter\").show()\naggregate_df.count()",
			"metadata": {
				"trusted": true,
				"tags": []
			},
			"execution_count": 24,
			"outputs": [
				{
					"name": "stdout",
					"text": "+--------------------+-----------------+----+-------+-------------------------------+----------------------------+------------------------------+\n|              Region|          Country|year|quarter|Total_Revenue_By_Region_Country|Total_Cost_By_Region_Country|Total_Profit_By_Region_Country|\n+--------------------+-----------------+----+-------+-------------------------------+----------------------------+------------------------------+\n|Middle East and N...|           Kuwait|2010|      1|                     1923024.24|                  1200910.86|                     722113.38|\n|              Europe|         Slovenia|2010|      1|             402336.24000000005|          270036.38999999996|                     132299.85|\n|  Sub-Saharan Africa|     Sierra Leone|2010|      1|                     6481276.65|          3926471.4699999997|            2554805.1799999997|\n|              Europe|           Cyprus|2010|      1|                      165676.72|                   103463.58|                      62213.14|\n|              Europe|    Liechtenstein|2010|      1|                      1574016.4|                   896125.72|                     677890.68|\n|                Asia|        Indonesia|2010|      1|                      105949.91|                    71881.15|                      34068.76|\n|                Asia|         Maldives|2010|      1|                      1637261.5|                   1231223.0|                      406038.5|\n|  Sub-Saharan Africa|           Uganda|2010|      1|                       66862.04|                    39463.62|                      27398.42|\n|Middle East and N...|            Syria|2010|      1|                     2148550.98|          1846030.5999999999|                     302520.38|\n|  Sub-Saharan Africa|            Kenya|2010|      1|                      488216.14|                   288157.17|                     200058.97|\n|Middle East and N...|          Bahrain|2010|      1|                     2428478.64|                  1516562.46|                     911916.18|\n|  Sub-Saharan Africa|          Nigeria|2010|      1|                      130917.44|                    42936.32|                      87981.12|\n|                Asia|        Sri Lanka|2010|      1|                      200419.52|                    65730.56|                     134688.96|\n|              Europe|      Switzerland|2010|      1|                      255802.95|                   171379.89|                      84423.06|\n|              Europe|        Lithuania|2010|      1|                     1834377.72|                  1585672.12|                      248705.6|\n|Middle East and N...|             Iran|2010|      1|                     2931671.66|                  2239089.38|                     692582.28|\n|Australia and Oce...|            Nauru|2010|      1|                     5755393.98|                  4639596.48|                     1115797.5|\n|Central America a...|          Jamaica|2010|      1|                     1573974.57|                  1268828.32|                     305146.25|\n|  Sub-Saharan Africa|Equatorial Guinea|2010|      1|                       75265.11|                    55823.64|                      19441.47|\n|Central America a...|         Honduras|2010|      1|             1183921.8900000001|                  1023289.68|                     160632.21|\n+--------------------+-----------------+----+-------+-------------------------------+----------------------------+------------------------------+\nonly showing top 20 rows\n\n3317\n",
					"output_type": "stream"
				}
			]
		},
		{
			"cell_type": "code",
			"source": "df.count()",
			"metadata": {
				"trusted": true,
				"tags": []
			},
			"execution_count": 20,
			"outputs": [
				{
					"name": "stdout",
					"text": "5000\n",
					"output_type": "stream"
				}
			]
		},
		{
			"cell_type": "code",
			"source": "dyf = DynamicFrame.fromDF(aggregate_df, glueContext, \"dynamic_frame\")",
			"metadata": {
				"trusted": true,
				"tags": []
			},
			"execution_count": 29,
			"outputs": [
				{
					"name": "stdout",
					"text": "\n",
					"output_type": "stream"
				}
			]
		},
		{
			"cell_type": "markdown",
			"source": "#### Example: Write the data in the DynamicFrame to a location in Amazon S3 and a table for it in the AWS Glue Data Catalog\n",
			"metadata": {
				"editable": true,
				"trusted": true
			}
		},
		{
			"cell_type": "code",
			"source": "dyf.show()",
			"metadata": {
				"trusted": true,
				"tags": []
			},
			"execution_count": 30,
			"outputs": [
				{
					"name": "stdout",
					"text": "{\"Region\": \"Sub-Saharan Africa\", \"Country\": \"Zambia\", \"year\": 2013, \"quarter\": 2, \"Total_Revenue_By_Region_Country\": 1765523.1, \"Total_Cost_By_Region_Country\": 1005155.13, \"Total_Profit_By_Region_Country\": 760367.97}\n{\"Region\": \"Europe\", \"Country\": \"Kosovo\", \"year\": 2012, \"quarter\": 4, \"Total_Revenue_By_Region_Country\": 4934580.33, \"Total_Cost_By_Region_Country\": 3958495.06, \"Total_Profit_By_Region_Country\": 976085.27}\n{\"Region\": \"Europe\", \"Country\": \"Spain\", \"year\": 2011, \"quarter\": 4, \"Total_Revenue_By_Region_Country\": 4544537.69, \"Total_Cost_By_Region_Country\": 3633328.41, \"Total_Profit_By_Region_Country\": 911209.28}\n{\"Region\": \"Sub-Saharan Africa\", \"Country\": \"Senegal\", \"year\": 2011, \"quarter\": 3, \"Total_Revenue_By_Region_Country\": 80527.23, \"Total_Cost_By_Region_Country\": 59726.52, \"Total_Profit_By_Region_Country\": 20800.71}\n{\"Region\": \"Middle East and North Africa\", \"Country\": \"Saudi Arabia\", \"year\": 2013, \"quarter\": 4, \"Total_Revenue_By_Region_Country\": 9850970.7, \"Total_Cost_By_Region_Country\": 7127364.779999999, \"Total_Profit_By_Region_Country\": 2723605.92}\n{\"Region\": \"Sub-Saharan Africa\", \"Country\": \"Ghana\", \"year\": 2017, \"quarter\": 2, \"Total_Revenue_By_Region_Country\": 2936764.95, \"Total_Cost_By_Region_Country\": 2090989.27, \"Total_Profit_By_Region_Country\": 845775.6799999999}\n{\"Region\": \"Sub-Saharan Africa\", \"Country\": \"Botswana\", \"year\": 2015, \"quarter\": 2, \"Total_Revenue_By_Region_Country\": 533279.92, \"Total_Cost_By_Region_Country\": 333028.38, \"Total_Profit_By_Region_Country\": 200251.54}\n{\"Region\": \"Europe\", \"Country\": \"Belarus\", \"year\": 2017, \"quarter\": 2, \"Total_Revenue_By_Region_Country\": 2209334.2199999997, \"Total_Cost_By_Region_Country\": 1614166.6400000001, \"Total_Profit_By_Region_Country\": 595167.5800000001}\n{\"Region\": \"Sub-Saharan Africa\", \"Country\": \"Seychelles \", \"year\": 2016, \"quarter\": 1, \"Total_Revenue_By_Region_Country\": 161424.9, \"Total_Cost_By_Region_Country\": 108149.58, \"Total_Profit_By_Region_Country\": 53275.32}\n{\"Region\": \"Central America and the Caribbean\", \"Country\": \"Saint Vincent and the Grenadines\", \"year\": 2016, \"quarter\": 4, \"Total_Revenue_By_Region_Country\": 1134805.96, \"Total_Cost_By_Region_Country\": 669790.38, \"Total_Profit_By_Region_Country\": 465015.58}\n{\"Region\": \"North America\", \"Country\": \"Canada\", \"year\": 2014, \"quarter\": 1, \"Total_Revenue_By_Region_Country\": 163373.6, \"Total_Cost_By_Region_Country\": 53580.8, \"Total_Profit_By_Region_Country\": 109792.8}\n{\"Region\": \"Europe\", \"Country\": \"Andorra\", \"year\": 2014, \"quarter\": 2, \"Total_Revenue_By_Region_Country\": 2165678.68, \"Total_Cost_By_Region_Country\": 1628498.9400000002, \"Total_Profit_By_Region_Country\": 537179.74}\n{\"Region\": \"Australia and Oceania\", \"Country\": \"Vanuatu\", \"year\": 2011, \"quarter\": 4, \"Total_Revenue_By_Region_Country\": 335294.11000000004, \"Total_Cost_By_Region_Country\": 229228.47, \"Total_Profit_By_Region_Country\": 106065.64}\n{\"Region\": \"Central America and the Caribbean\", \"Country\": \"The Bahamas\", \"year\": 2014, \"quarter\": 1, \"Total_Revenue_By_Region_Country\": 1418189.3599999999, \"Total_Cost_By_Region_Country\": 825444.62, \"Total_Profit_By_Region_Country\": 592744.74}\n{\"Region\": \"Europe\", \"Country\": \"Montenegro\", \"year\": 2011, \"quarter\": 2, \"Total_Revenue_By_Region_Country\": 4235589.399999999, \"Total_Cost_By_Region_Country\": 3119431.9299999997, \"Total_Profit_By_Region_Country\": 1116157.47}\n{\"Region\": \"Asia\", \"Country\": \"Uzbekistan\", \"year\": 2014, \"quarter\": 3, \"Total_Revenue_By_Region_Country\": 560811.55, \"Total_Cost_By_Region_Country\": 375726.01, \"Total_Profit_By_Region_Country\": 185085.53999999998}\n{\"Region\": \"Sub-Saharan Africa\", \"Country\": \"Burkina Faso\", \"year\": 2016, \"quarter\": 2, \"Total_Revenue_By_Region_Country\": 399007.05, \"Total_Cost_By_Region_Country\": 267322.11, \"Total_Profit_By_Region_Country\": 131684.94}\n{\"Region\": \"Australia and Oceania\", \"Country\": \"Samoa \", \"year\": 2013, \"quarter\": 4, \"Total_Revenue_By_Region_Country\": 2098003.46, \"Total_Cost_By_Region_Country\": 1486731.42, \"Total_Profit_By_Region_Country\": 611272.04}\n{\"Region\": \"Central America and the Caribbean\", \"Country\": \"Haiti\", \"year\": 2014, \"quarter\": 4, \"Total_Revenue_By_Region_Country\": 814014.3, \"Total_Cost_By_Region_Country\": 519842.4, \"Total_Profit_By_Region_Country\": 294171.9}\n{\"Region\": \"Europe\", \"Country\": \"Liechtenstein\", \"year\": 2015, \"quarter\": 3, \"Total_Revenue_By_Region_Country\": 5117611.66, \"Total_Cost_By_Region_Country\": 3848451.32, \"Total_Profit_By_Region_Country\": 1269160.34}\n",
					"output_type": "stream"
				}
			]
		},
		{
			"cell_type": "code",
			"source": "\n\nRedshift_output = glueContext.write_dynamic_frame.from_jdbc_conf(\n    frame=dyf,\n    catalog_connection=\"redshift-demo-connection\",\n    connection_options={\n        \"redshiftTmpDir\": \"s3://aws-glue-assets-262136919150-us-east-1/temporary/\",\n        \"dbtable\": \"public.Regionalsales\",\n        \"database\":\"dev\"\n       }\n)",
			"metadata": {
				"trusted": true,
				"tags": []
			},
			"execution_count": 33,
			"outputs": [
				{
					"name": "stdout",
					"text": "Py4JJavaError: An error occurred while calling o287.getJDBCSink.\n: java.sql.SQLException: [Amazon](500150) Error setting/closing connection: Connection timed out.\n\tat com.amazon.redshift.client.PGClient.connect(Unknown Source)\n\tat com.amazon.redshift.client.PGClient.<init>(Unknown Source)\n\tat com.amazon.redshift.core.PGJDBCConnection.connect(Unknown Source)\n\tat com.amazon.jdbc.common.BaseConnectionFactory.doConnect(Unknown Source)\n\tat com.amazon.jdbc.common.AbstractDriver.connect(Unknown Source)\n\tat com.amazon.redshift.jdbc.Driver.connect(Unknown Source)\n\tat com.amazonaws.services.glue.util.JDBCWrapper$$anonfun$12.apply(JDBCUtils.scala:968)\n\tat com.amazonaws.services.glue.util.JDBCWrapper$$anonfun$12.apply(JDBCUtils.scala:964)\n\tat com.amazonaws.services.glue.util.JDBCWrapper$$anonfun$connectWithSSLAttempt$1$$anonfun$apply$8.apply(JDBCUtils.scala:920)\n\tat scala.Option.getOrElse(Option.scala:121)\n\tat com.amazonaws.services.glue.util.JDBCWrapper$$anonfun$connectWithSSLAttempt$1.apply(JDBCUtils.scala:920)\n\tat scala.Option.getOrElse(Option.scala:121)\n\tat com.amazonaws.services.glue.util.JDBCWrapper$.connectWithSSLAttempt(JDBCUtils.scala:920)\n\tat com.amazonaws.services.glue.util.JDBCWrapper$.connectionProperties(JDBCUtils.scala:963)\n\tat com.amazonaws.services.glue.util.JDBCWrapper.connectionProperties$lzycompute(JDBCUtils.scala:734)\n\tat com.amazonaws.services.glue.util.JDBCWrapper.connectionProperties(JDBCUtils.scala:734)\n\tat com.amazonaws.services.glue.util.JDBCWrapper.getRawConnection(JDBCUtils.scala:747)\n\tat com.amazonaws.services.glue.RedshiftDataSink.<init>(RedshiftDataSink.scala:41)\n\tat com.amazonaws.services.glue.GlueContext.getSink(GlueContext.scala:972)\n\tat com.amazonaws.services.glue.GlueContext.getJDBCSink(GlueContext.scala:707)\n\tat com.amazonaws.services.glue.GlueContext.getJDBCSink(GlueContext.scala:689)\n\tat sun.reflect.NativeMethodAccessorImpl.invoke0(Native Method)\n\tat sun.reflect.NativeMethodAccessorImpl.invoke(NativeMethodAccessorImpl.java:62)\n\tat sun.reflect.DelegatingMethodAccessorImpl.invoke(DelegatingMethodAccessorImpl.java:43)\n\tat java.lang.reflect.Method.invoke(Method.java:498)\n\tat py4j.reflection.MethodInvoker.invoke(MethodInvoker.java:244)\n\tat py4j.reflection.ReflectionEngine.invoke(ReflectionEngine.java:357)\n\tat py4j.Gateway.invoke(Gateway.java:282)\n\tat py4j.commands.AbstractCommand.invokeMethod(AbstractCommand.java:132)\n\tat py4j.commands.CallCommand.execute(CallCommand.java:79)\n\tat py4j.GatewayConnection.run(GatewayConnection.java:238)\nCaused by: com.amazon.support.exceptions.GeneralException: [Amazon](500150) Error setting/closing connection: Connection timed out.\n\t... 31 more\nCaused by: java.net.ConnectException: Connection timed out\n\tat sun.nio.ch.Net.connect0(Native Method)\n\tat sun.nio.ch.Net.connect(Net.java:482)\n\tat sun.nio.ch.Net.connect(Net.java:474)\n\tat sun.nio.ch.SocketChannelImpl.connect(SocketChannelImpl.java:647)\n\tat sun.nio.ch.SocketAdaptor.connect(SocketAdaptor.java:107)\n\tat com.amazon.redshift.client.PGClient.connect(Unknown Source)\n\tat com.amazon.redshift.client.PGClient.<init>(Unknown Source)\n\tat com.amazon.redshift.core.PGJDBCConnection.connect(Unknown Source)\n\tat com.amazon.jdbc.common.BaseConnectionFactory.doConnect(Unknown Source)\n\tat com.amazon.jdbc.common.AbstractDriver.connect(Unknown Source)\n\tat com.amazon.redshift.jdbc.Driver.connect(Unknown Source)\n\tat com.amazonaws.services.glue.util.JDBCWrapper$$anonfun$12.apply(JDBCUtils.scala:968)\n\tat com.amazonaws.services.glue.util.JDBCWrapper$$anonfun$12.apply(JDBCUtils.scala:964)\n\tat com.amazonaws.services.glue.util.JDBCWrapper$$anonfun$connectWithSSLAttempt$1$$anonfun$apply$8.apply(JDBCUtils.scala:920)\n\tat scala.Option.getOrElse(Option.scala:121)\n\tat com.amazonaws.services.glue.util.JDBCWrapper$$anonfun$connectWithSSLAttempt$1.apply(JDBCUtils.scala:920)\n\tat scala.Option.getOrElse(Option.scala:121)\n\tat com.amazonaws.services.glue.util.JDBCWrapper$.connectWithSSLAttempt(JDBCUtils.scala:920)\n\tat com.amazonaws.services.glue.util.JDBCWrapper$.connectionProperties(JDBCUtils.scala:963)\n\tat com.amazonaws.services.glue.util.JDBCWrapper.connectionProperties$lzycompute(JDBCUtils.scala:734)\n\tat com.amazonaws.services.glue.util.JDBCWrapper.connectionProperties(JDBCUtils.scala:734)\n\tat com.amazonaws.services.glue.util.JDBCWrapper.getRawConnection(JDBCUtils.scala:747)\n\tat com.amazonaws.services.glue.RedshiftDataSink.<init>(RedshiftDataSink.scala:41)\n\tat com.amazonaws.services.glue.GlueContext.getSink(GlueContext.scala:972)\n\tat com.amazonaws.services.glue.GlueContext.getJDBCSink(GlueContext.scala:707)\n\tat com.amazonaws.services.glue.GlueContext.getJDBCSink(GlueContext.scala:689)\n\tat sun.reflect.NativeMethodAccessorImpl.invoke0(Native Method)\n\tat sun.reflect.NativeMethodAccessorImpl.invoke(NativeMethodAccessorImpl.java:62)\n\tat sun.reflect.DelegatingMethodAccessorImpl.invoke(DelegatingMethodAccessorImpl.java:43)\n\tat java.lang.reflect.Method.invoke(Method.java:498)\n\tat py4j.reflection.MethodInvoker.invoke(MethodInvoker.java:244)\n\tat py4j.reflection.ReflectionEngine.invoke(ReflectionEngine.java:357)\n\tat py4j.Gateway.invoke(Gateway.java:282)\n\tat py4j.commands.AbstractCommand.invokeMethod(AbstractCommand.java:132)\n\tat py4j.commands.CallCommand.execute(CallCommand.java:79)\n\tat py4j.GatewayConnection.run(GatewayConnection.java:238)\n\tat java.lang.Thread.run(Thread.java:750)\n\n",
					"output_type": "stream"
				}
			]
		},
		{
			"cell_type": "code",
			"source": "",
			"metadata": {},
			"execution_count": null,
			"outputs": []
		}
	]
}
